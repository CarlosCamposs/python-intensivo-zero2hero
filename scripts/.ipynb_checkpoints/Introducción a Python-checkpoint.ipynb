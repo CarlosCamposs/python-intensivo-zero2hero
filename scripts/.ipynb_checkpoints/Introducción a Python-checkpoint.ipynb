{
 "cells": [
  {
   "cell_type": "markdown",
   "id": "21d4019d",
   "metadata": {},
   "source": [
    "# Introducción a Python"
   ]
  },
  {
   "cell_type": "markdown",
   "id": "36268f56",
   "metadata": {},
   "source": [
    "### Un curso original de zero2hero\n",
    "##### Aprende a programar desde cero y cumple tus metas!"
   ]
  },
  {
   "cell_type": "markdown",
   "id": "cf04a099",
   "metadata": {},
   "source": [
    "¿Cómo vamos a almacenar información en nuestra computadora?\n",
    "\n",
    "**¡Variables!**"
   ]
  },
  {
   "cell_type": "code",
   "execution_count": 3,
   "id": "3c32cb02",
   "metadata": {},
   "outputs": [],
   "source": [
    "nombre = 'Carlos'\n",
    "apellido ='Campos'\n",
    "edad=23\n",
    "sexo='M'"
   ]
  },
  {
   "cell_type": "code",
   "execution_count": 4,
   "id": "f3e59298",
   "metadata": {},
   "outputs": [
    {
     "name": "stdout",
     "output_type": "stream",
     "text": [
      "Buenos días Carlos Campos\n"
     ]
    }
   ],
   "source": [
    "# Concatenación de cadenas\n",
    "print('Buenos días '+nombre+' '+ apellido)"
   ]
  },
  {
   "cell_type": "code",
   "execution_count": 5,
   "id": "61cdee44",
   "metadata": {},
   "outputs": [
    {
     "name": "stdout",
     "output_type": "stream",
     "text": [
      "Buenos dias Carlos Campos de 23 años de edad\n"
     ]
    }
   ],
   "source": [
    "# f-strings\n",
    "print(f'Buenos dias {nombre} {apellido} de {edad} años de edad')"
   ]
  },
  {
   "cell_type": "markdown",
   "id": "cf4798d5",
   "metadata": {},
   "source": [
    "#### Tipos de variable"
   ]
  },
  {
   "cell_type": "code",
   "execution_count": 6,
   "id": "fd1680a3",
   "metadata": {},
   "outputs": [],
   "source": [
    "var1='hola'\n",
    "var2=33"
   ]
  },
  {
   "cell_type": "code",
   "execution_count": 7,
   "id": "dac6f671",
   "metadata": {},
   "outputs": [
    {
     "data": {
      "text/plain": [
       "str"
      ]
     },
     "execution_count": 7,
     "metadata": {},
     "output_type": "execute_result"
    }
   ],
   "source": [
    "type(var1)"
   ]
  },
  {
   "cell_type": "code",
   "execution_count": 8,
   "id": "b6426137",
   "metadata": {},
   "outputs": [
    {
     "data": {
      "text/plain": [
       "int"
      ]
     },
     "execution_count": 8,
     "metadata": {},
     "output_type": "execute_result"
    }
   ],
   "source": [
    "type(var2)"
   ]
  },
  {
   "cell_type": "markdown",
   "id": "7fab180f",
   "metadata": {},
   "source": [
    "#### Operaciones matemáticas"
   ]
  },
  {
   "cell_type": "code",
   "execution_count": 9,
   "id": "c83b6d4b",
   "metadata": {},
   "outputs": [],
   "source": [
    "a=10\n",
    "b=-5\n",
    "c=0.1\n",
    "d=1.23456789"
   ]
  },
  {
   "cell_type": "markdown",
   "id": "f325d7b1",
   "metadata": {},
   "source": [
    "PEMDAS = Paréntesis - Exponente - Multiplicación - División - Adición -Substracción"
   ]
  },
  {
   "cell_type": "code",
   "execution_count": 10,
   "id": "b52d84ac",
   "metadata": {},
   "outputs": [
    {
     "data": {
      "text/plain": [
       "5.1"
      ]
     },
     "execution_count": 10,
     "metadata": {},
     "output_type": "execute_result"
    }
   ],
   "source": [
    "# Suma\n",
    "(a+b)+c"
   ]
  },
  {
   "cell_type": "code",
   "execution_count": 11,
   "id": "ff914a7b",
   "metadata": {},
   "outputs": [
    {
     "data": {
      "text/plain": [
       "-50"
      ]
     },
     "execution_count": 11,
     "metadata": {},
     "output_type": "execute_result"
    }
   ],
   "source": [
    "# Multiplicación\n",
    "a*b"
   ]
  },
  {
   "cell_type": "code",
   "execution_count": 12,
   "id": "3ca9e82c",
   "metadata": {},
   "outputs": [
    {
     "data": {
      "text/plain": [
       "-2.0"
      ]
     },
     "execution_count": 12,
     "metadata": {},
     "output_type": "execute_result"
    }
   ],
   "source": [
    "# División\n",
    "a/b"
   ]
  },
  {
   "cell_type": "code",
   "execution_count": 13,
   "id": "fffcd6f8",
   "metadata": {},
   "outputs": [
    {
     "data": {
      "text/plain": [
       "1.2589254117941673"
      ]
     },
     "execution_count": 13,
     "metadata": {},
     "output_type": "execute_result"
    }
   ],
   "source": [
    "# Potencia\n",
    "a**c"
   ]
  },
  {
   "cell_type": "code",
   "execution_count": 15,
   "id": "2922e226",
   "metadata": {},
   "outputs": [
    {
     "data": {
      "text/plain": [
       "1"
      ]
     },
     "execution_count": 15,
     "metadata": {},
     "output_type": "execute_result"
    }
   ],
   "source": [
    "# Residuo\n",
    "10%3"
   ]
  },
  {
   "cell_type": "markdown",
   "id": "9ed279d7",
   "metadata": {},
   "source": [
    "Hagamos un ejemplo con módulo..."
   ]
  },
  {
   "cell_type": "code",
   "execution_count": 17,
   "id": "348d3bff",
   "metadata": {},
   "outputs": [
    {
     "name": "stdout",
     "output_type": "stream",
     "text": [
      "Número total de rebanadas: 40\n",
      "Rebanadas sobrantes: 0\n"
     ]
    }
   ],
   "source": [
    "numero_amigos=5\n",
    "\n",
    "rebanadas_x_pizza=8\n",
    "\n",
    "#¿Cuántas pizzas debo ordenar para que todos coman igual y no sobre nada?\n",
    "\n",
    "numero_pizzas=5\n",
    "\n",
    "rebanadas_totales=numero_pizzas*rebanadas_x_pizza\n",
    "print(f'Número total de rebanadas: {rebanadas_totales}')\n",
    "\n",
    "rebanadas_sobrantes=rebanadas_totales%numero_amigos\n",
    "print(f'Rebanadas sobrantes: {rebanadas_sobrantes}')"
   ]
  },
  {
   "cell_type": "markdown",
   "id": "ab98d152",
   "metadata": {},
   "source": [
    "#### Operaciones lógicas"
   ]
  },
  {
   "cell_type": "markdown",
   "id": "bbbe33b2",
   "metadata": {},
   "source": [
    "Valores booleanos"
   ]
  },
  {
   "cell_type": "code",
   "execution_count": 18,
   "id": "9db51baf",
   "metadata": {},
   "outputs": [
    {
     "data": {
      "text/plain": [
       "False"
      ]
     },
     "execution_count": 18,
     "metadata": {},
     "output_type": "execute_result"
    }
   ],
   "source": [
    "10**(9-7*5.1/2)>50*(1/1.1111111)"
   ]
  },
  {
   "cell_type": "code",
   "execution_count": 19,
   "id": "a4dd901c",
   "metadata": {},
   "outputs": [
    {
     "data": {
      "text/plain": [
       "False"
      ]
     },
     "execution_count": 19,
     "metadata": {},
     "output_type": "execute_result"
    }
   ],
   "source": [
    "'Jonatan'=='jonatan'"
   ]
  },
  {
   "cell_type": "code",
   "execution_count": 20,
   "id": "676411f7",
   "metadata": {},
   "outputs": [
    {
     "data": {
      "text/plain": [
       "True"
      ]
     },
     "execution_count": 20,
     "metadata": {},
     "output_type": "execute_result"
    }
   ],
   "source": [
    "10>5"
   ]
  },
  {
   "cell_type": "markdown",
   "id": "825a70db",
   "metadata": {},
   "source": [
    "__AND__"
   ]
  },
  {
   "cell_type": "code",
   "execution_count": 21,
   "id": "7cd37ead",
   "metadata": {},
   "outputs": [
    {
     "data": {
      "text/plain": [
       "False"
      ]
     },
     "execution_count": 21,
     "metadata": {},
     "output_type": "execute_result"
    }
   ],
   "source": [
    "10>50 and 3>2"
   ]
  },
  {
   "cell_type": "markdown",
   "id": "f204fe86",
   "metadata": {},
   "source": [
    "__OR__"
   ]
  },
  {
   "cell_type": "code",
   "execution_count": 22,
   "id": "cd721c9a",
   "metadata": {},
   "outputs": [
    {
     "data": {
      "text/plain": [
       "False"
      ]
     },
     "execution_count": 22,
     "metadata": {},
     "output_type": "execute_result"
    }
   ],
   "source": [
    "10 > 50 or 3>20"
   ]
  },
  {
   "cell_type": "markdown",
   "id": "5899a81f",
   "metadata": {},
   "source": [
    "Ejemplo - Log In"
   ]
  },
  {
   "cell_type": "code",
   "execution_count": 24,
   "id": "08086e0b",
   "metadata": {},
   "outputs": [
    {
     "name": "stdout",
     "output_type": "stream",
     "text": [
      "username: carloscampos\n",
      "password: dejameentrar\n"
     ]
    },
    {
     "data": {
      "text/plain": [
       "True"
      ]
     },
     "execution_count": 24,
     "metadata": {},
     "output_type": "execute_result"
    }
   ],
   "source": [
    "usuario_real='carloscampos'\n",
    "contraseña_real='dejameentrar'\n",
    "\n",
    "username=input('username: ')\n",
    "password=input('password: ')\n",
    "\n",
    "usuario_real== username and contraseña_real==password"
   ]
  },
  {
   "cell_type": "markdown",
   "id": "61c1889e",
   "metadata": {},
   "source": [
    "#### Condicionales"
   ]
  },
  {
   "cell_type": "code",
   "execution_count": 25,
   "id": "36580883",
   "metadata": {},
   "outputs": [
    {
     "name": "stdout",
     "output_type": "stream",
     "text": [
      "Eres muy joven para entrar\n"
     ]
    }
   ],
   "source": [
    "edad=10\n",
    "\n",
    "if edad > 17:\n",
    "    print('Puedes entrar al antro')\n",
    "else:\n",
    "    print('Eres muy joven para entrar')\n"
   ]
  },
  {
   "cell_type": "code",
   "execution_count": 26,
   "id": "cbdd53a9",
   "metadata": {},
   "outputs": [
    {
     "name": "stdout",
     "output_type": "stream",
     "text": [
      "username: carloscampos\n",
      "password: dejameentrar\n",
      "Puedes acceder!\n"
     ]
    }
   ],
   "source": [
    "usuario_real='carloscampos'\n",
    "contraseña_real='dejameentrar'\n",
    "\n",
    "username=input('username: ')\n",
    "password=input('password: ')\n",
    "\n",
    "if usuario_real== username and contraseña_real==password:\n",
    "    print('Puedes acceder!')\n",
    "else:\n",
    "    print('Usuario o contraseña incorrectos')\n",
    "\n"
   ]
  },
  {
   "cell_type": "markdown",
   "id": "004fff86",
   "metadata": {},
   "source": [
    "#### Aplicación: Match Selector"
   ]
  },
  {
   "cell_type": "markdown",
   "id": "4cda80fa",
   "metadata": {},
   "source": [
    "edad máxima: 45 años\n",
    "\n",
    "mínimo aportar financieramente: $20, 000\n",
    "\n",
    "mínimo viajes al año: 5 viajes\n",
    "\n",
    "Suponemos que queremos que se cumplan al menos las tres características mínimas"
   ]
  },
  {
   "cell_type": "code",
   "execution_count": 28,
   "id": "e3adc819",
   "metadata": {},
   "outputs": [
    {
     "name": "stdout",
     "output_type": "stream",
     "text": [
      "Ya estás más allá que paca ... te pasaste por 1 años\n"
     ]
    }
   ],
   "source": [
    "edad = 46\n",
    "apoyo=20000\n",
    "viajes=5\n",
    "\n",
    "criterio_edad=edad<=45\n",
    "criterio_apoyo=apoyo>=20000\n",
    "criterio_viajes=viajes>=5\n",
    "\n",
    "if criterio_edad and criterio_apoyo and criterio_viajes:\n",
    "    print('He seleccionado a mi papi de azucar... felicidades')\n",
    "else:\n",
    "    if criterio_edad and criterio_apoyo:\n",
    "        print(f'No cumples con los viajes mínimos. Te hacen falta {5-viajes} viajes')\n",
    "    if criterio_edad and criterio_viajes:\n",
    "        print(f'No me ofreces suficiente baro, dame {20000-apoyo} pesitos mas y sí jala')\n",
    "    if criterio_apoyo and criterio_viajes:\n",
    "        print(f'Ya estás más allá que paca ... te pasaste por {edad-45} años')"
   ]
  },
  {
   "cell_type": "markdown",
   "id": "040e3842",
   "metadata": {},
   "source": [
    "## Clase 02"
   ]
  },
  {
   "cell_type": "markdown",
   "id": "acd52673",
   "metadata": {},
   "source": [
    "Estructura elif"
   ]
  },
  {
   "cell_type": "code",
   "execution_count": 4,
   "id": "41ea3a6e",
   "metadata": {},
   "outputs": [
    {
     "name": "stdout",
     "output_type": "stream",
     "text": [
      "name: carlos\n",
      "No te conozco\n"
     ]
    }
   ],
   "source": [
    "nombre=input('name: ')\n",
    "\n",
    "if nombre=='jonatan':\n",
    "    print('Hola!')\n",
    "elif nombre=='sofia':\n",
    "    print('<3')\n",
    "elif nombre=='raul':\n",
    "    print('____')\n",
    "else:\n",
    "    print('No te conozco')"
   ]
  },
  {
   "cell_type": "markdown",
   "id": "510a895a",
   "metadata": {},
   "source": [
    "#### Listas"
   ]
  },
  {
   "cell_type": "code",
   "execution_count": 6,
   "id": "46b73bd1",
   "metadata": {},
   "outputs": [],
   "source": [
    "# Las listas se desigan con corchetes []\n",
    "amigos=['ana','jose','juan']"
   ]
  },
  {
   "cell_type": "code",
   "execution_count": 7,
   "id": "9cdd7fe2",
   "metadata": {},
   "outputs": [
    {
     "data": {
      "text/plain": [
       "3"
      ]
     },
     "execution_count": 7,
     "metadata": {},
     "output_type": "execute_result"
    }
   ],
   "source": [
    "# Cuántos elementos tiene mi lista\n",
    "len(amigos)"
   ]
  },
  {
   "cell_type": "code",
   "execution_count": 8,
   "id": "c9c2f3af",
   "metadata": {},
   "outputs": [],
   "source": [
    "# Agregar un elemento al final de la lista\n",
    "amigos.append('raul')"
   ]
  },
  {
   "cell_type": "code",
   "execution_count": 9,
   "id": "3d9a7b65",
   "metadata": {},
   "outputs": [
    {
     "data": {
      "text/plain": [
       "['ana', 'jose', 'juan', 'raul']"
      ]
     },
     "execution_count": 9,
     "metadata": {},
     "output_type": "execute_result"
    }
   ],
   "source": [
    "amigos"
   ]
  },
  {
   "cell_type": "code",
   "execution_count": 11,
   "id": "7e71b7d4",
   "metadata": {},
   "outputs": [
    {
     "data": {
      "text/plain": [
       "'ana'"
      ]
     },
     "execution_count": 11,
     "metadata": {},
     "output_type": "execute_result"
    }
   ],
   "source": [
    "# Iterar la lista\n",
    "#      Python empiza a contar desde cero los elementos de la lista\n",
    "amigos[0]"
   ]
  },
  {
   "cell_type": "markdown",
   "id": "8e91b05a",
   "metadata": {},
   "source": [
    "#### Ciclos"
   ]
  },
  {
   "cell_type": "code",
   "execution_count": 12,
   "id": "834b5628",
   "metadata": {},
   "outputs": [
    {
     "name": "stdout",
     "output_type": "stream",
     "text": [
      "ana\n",
      "jose\n",
      "juan\n",
      "raul\n"
     ]
    }
   ],
   "source": [
    "# Estructura\n",
    "for friend in amigos:\n",
    "    print(friend)"
   ]
  },
  {
   "cell_type": "code",
   "execution_count": 13,
   "id": "a8ef9001",
   "metadata": {},
   "outputs": [],
   "source": [
    "edades=[9,21,24,15,18,19,20,11,23]"
   ]
  },
  {
   "cell_type": "code",
   "execution_count": 15,
   "id": "06342419",
   "metadata": {},
   "outputs": [
    {
     "name": "stdout",
     "output_type": "stream",
     "text": [
      "menor de edad\n",
      "mayor de edad\n",
      "mayor de edad\n",
      "menor de edad\n",
      "mayor de edad\n",
      "mayor de edad\n",
      "mayor de edad\n",
      "menor de edad\n",
      "mayor de edad\n"
     ]
    }
   ],
   "source": [
    "for e in edades:\n",
    "    if e>=18:\n",
    "        print('mayor de edad')\n",
    "    else:\n",
    "        print('menor de edad')           "
   ]
  },
  {
   "cell_type": "markdown",
   "id": "5d492db7",
   "metadata": {},
   "source": [
    "#### Seleccionar a la mascota ideal\n",
    "\n",
    "Una tienda tiene un catálogo de mascotas. Desea, conociendo el presupuesto actual y semanal del cliente, además de la edad de este, recomendar sus mascotas"
   ]
  },
  {
   "cell_type": "code",
   "execution_count": 17,
   "id": "cead3044",
   "metadata": {},
   "outputs": [],
   "source": [
    "catalogo=[]\n",
    "\n",
    "# Definimos los elementos que irán dentro del catálogo (cada elemento será una lista)\n",
    "perro=['Perro',5000,200,13]\n",
    "gato=['Gato',2000,150,9]\n",
    "hamster=['Hamster',200,25,6]\n",
    "tarantula=['Tarantula',800,100,18]\n",
    "tortuga=['Tortuga',100,50,5]\n",
    "\n",
    "# con .append agregamos los elementos\n",
    "catalogo.append(perro)\n",
    "catalogo.append(gato)\n",
    "catalogo.append(hamster)\n",
    "catalogo.append(tarantula)\n",
    "catalogo.append(tortuga)"
   ]
  },
  {
   "cell_type": "code",
   "execution_count": 18,
   "id": "e2f0be3b",
   "metadata": {},
   "outputs": [
    {
     "data": {
      "text/plain": [
       "[['Perro', 5000, 200, 13],\n",
       " ['Gato', 2000, 150, 9],\n",
       " ['Hamster', 200, 25, 6],\n",
       " ['Tarantula', 800, 100, 18],\n",
       " ['Tortuga', 100, 50, 5]]"
      ]
     },
     "execution_count": 18,
     "metadata": {},
     "output_type": "execute_result"
    }
   ],
   "source": [
    "catalogo\n",
    "        # Hemos creado una lista donde cada elementos es una lista"
   ]
  },
  {
   "cell_type": "code",
   "execution_count": 20,
   "id": "0be73dea",
   "metadata": {},
   "outputs": [
    {
     "data": {
      "text/plain": [
       "5000"
      ]
     },
     "execution_count": 20,
     "metadata": {},
     "output_type": "execute_result"
    }
   ],
   "source": [
    "# Acceder a los elementos\n",
    "catalogo[0][1]"
   ]
  },
  {
   "cell_type": "code",
   "execution_count": 22,
   "id": "5038fb4d",
   "metadata": {},
   "outputs": [
    {
     "name": "stdout",
     "output_type": "stream",
     "text": [
      "presupuesto actual: 3000\n",
      "presupuesto semanal: 250\n",
      "edad: 10\n"
     ]
    }
   ],
   "source": [
    "presupuesto_actual=int(input('presupuesto actual: '))\n",
    "presupuesto_semanal=int(input('presupuesto semanal: '))\n",
    "edad=int(input('edad: '))"
   ]
  },
  {
   "cell_type": "code",
   "execution_count": 23,
   "id": "5697518e",
   "metadata": {},
   "outputs": [
    {
     "name": "stdout",
     "output_type": "stream",
     "text": [
      "Gato\n",
      "Hamster\n",
      "Aunque tienes muy poca edad, en unos años podrías comprar un Tarantula\n",
      "Tortuga\n"
     ]
    }
   ],
   "source": [
    "for i in catalogo:\n",
    "    if presupuesto_actual>=i[1] and presupuesto_semanal>=i[2] and i[3]<=edad:\n",
    "        print(i[0])\n",
    "    elif presupuesto_actual>=i[1] and presupuesto_semanal>=i[2]:\n",
    "        print(f'Aunque tienes muy poca edad, en unos años podrías comprar un {i[0]}')"
   ]
  },
  {
   "cell_type": "code",
   "execution_count": 24,
   "id": "511347a4",
   "metadata": {},
   "outputs": [],
   "source": [
    "perros=['labrador','salchicha', 'chihuahua']"
   ]
  },
  {
   "cell_type": "markdown",
   "id": "1d577940",
   "metadata": {},
   "source": [
    "#### Diferentes formas de iterar"
   ]
  },
  {
   "cell_type": "code",
   "execution_count": 25,
   "id": "2113f12a",
   "metadata": {},
   "outputs": [
    {
     "name": "stdout",
     "output_type": "stream",
     "text": [
      "labrador\n",
      "salchicha\n",
      "chihuahua\n"
     ]
    }
   ],
   "source": [
    "for i in range(len(perros)):\n",
    "    print(perros[i])"
   ]
  },
  {
   "cell_type": "code",
   "execution_count": 26,
   "id": "c3770308",
   "metadata": {},
   "outputs": [
    {
     "name": "stdout",
     "output_type": "stream",
     "text": [
      "labrador\n",
      "salchicha\n",
      "chihuahua\n"
     ]
    }
   ],
   "source": [
    "for p in perros:\n",
    "    print(p)"
   ]
  },
  {
   "cell_type": "code",
   "execution_count": 31,
   "id": "600ff4cc",
   "metadata": {},
   "outputs": [
    {
     "name": "stdout",
     "output_type": "stream",
     "text": [
      "0\n",
      "1\n",
      "2\n",
      "3\n",
      "4\n"
     ]
    }
   ],
   "source": [
    "for i in range(5):\n",
    "    print(i)"
   ]
  },
  {
   "cell_type": "markdown",
   "id": "0db16ab6",
   "metadata": {},
   "source": [
    "#### Funciones"
   ]
  },
  {
   "cell_type": "code",
   "execution_count": 32,
   "id": "1813b3a9",
   "metadata": {},
   "outputs": [],
   "source": [
    "# Sintaxis\n",
    "def x_cuadrado(x):\n",
    "    return x**2"
   ]
  },
  {
   "cell_type": "code",
   "execution_count": 33,
   "id": "e5a71e84",
   "metadata": {},
   "outputs": [
    {
     "data": {
      "text/plain": [
       "25"
      ]
     },
     "execution_count": 33,
     "metadata": {},
     "output_type": "execute_result"
    }
   ],
   "source": [
    "x_cuadrado(5)"
   ]
  },
  {
   "cell_type": "code",
   "execution_count": 46,
   "id": "6429a072",
   "metadata": {},
   "outputs": [],
   "source": [
    "def saludar(nombre):\n",
    "    print(f'Buenos días {nombre}')"
   ]
  },
  {
   "cell_type": "code",
   "execution_count": 48,
   "id": "1242315f",
   "metadata": {},
   "outputs": [
    {
     "name": "stdout",
     "output_type": "stream",
     "text": [
      "Buenos días Carlos\n"
     ]
    }
   ],
   "source": [
    "saludar('Carlos')"
   ]
  },
  {
   "cell_type": "code",
   "execution_count": 49,
   "id": "274b54a1",
   "metadata": {},
   "outputs": [],
   "source": [
    "def mayor_edad(edad):\n",
    "    if edad >=18:\n",
    "        print('Mayor de edad')\n",
    "    else:\n",
    "        print('Menor de edad')"
   ]
  },
  {
   "cell_type": "code",
   "execution_count": 51,
   "id": "40abdb53",
   "metadata": {},
   "outputs": [
    {
     "data": {
      "text/plain": [
       "[9, 21, 24, 15, 18, 19, 20, 11, 23]"
      ]
     },
     "execution_count": 51,
     "metadata": {},
     "output_type": "execute_result"
    }
   ],
   "source": [
    "edades"
   ]
  },
  {
   "cell_type": "code",
   "execution_count": 56,
   "id": "e61b7b1b",
   "metadata": {},
   "outputs": [
    {
     "name": "stdout",
     "output_type": "stream",
     "text": [
      "Menor de edad\n",
      "Mayor de edad\n",
      "Mayor de edad\n",
      "Menor de edad\n",
      "Mayor de edad\n",
      "Mayor de edad\n",
      "Mayor de edad\n",
      "Menor de edad\n",
      "Mayor de edad\n"
     ]
    }
   ],
   "source": [
    "for i in edades:\n",
    "    mayor_edad(i)"
   ]
  },
  {
   "cell_type": "code",
   "execution_count": 57,
   "id": "65fc825d",
   "metadata": {},
   "outputs": [],
   "source": [
    "X=range(100)\n",
    "Y=[]\n",
    "\n",
    "for x in X:\n",
    "    Y.append(x_cuadrado(x))\n",
    "    \n",
    "# Y"
   ]
  },
  {
   "cell_type": "code",
   "execution_count": 59,
   "id": "17cba5bf",
   "metadata": {},
   "outputs": [
    {
     "data": {
      "text/plain": [
       "160"
      ]
     },
     "execution_count": 59,
     "metadata": {},
     "output_type": "execute_result"
    }
   ],
   "source": [
    "sum(edades)"
   ]
  }
 ],
 "metadata": {
  "kernelspec": {
   "display_name": "Python 3 (ipykernel)",
   "language": "python",
   "name": "python3"
  },
  "language_info": {
   "codemirror_mode": {
    "name": "ipython",
    "version": 3
   },
   "file_extension": ".py",
   "mimetype": "text/x-python",
   "name": "python",
   "nbconvert_exporter": "python",
   "pygments_lexer": "ipython3",
   "version": "3.9.13"
  }
 },
 "nbformat": 4,
 "nbformat_minor": 5
}
