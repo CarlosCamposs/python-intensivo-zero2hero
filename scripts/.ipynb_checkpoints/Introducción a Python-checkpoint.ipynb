{
 "cells": [
  {
   "cell_type": "markdown",
   "id": "9beda314",
   "metadata": {},
   "source": [
    "# Introducción a Python"
   ]
  },
  {
   "cell_type": "markdown",
   "id": "095a5dce",
   "metadata": {},
   "source": [
    "### Un curso original de zero2hero\n",
    "##### Aprende a programar desde cero y cumple tus metas!"
   ]
  },
  {
   "cell_type": "markdown",
   "id": "c13e8c64",
   "metadata": {},
   "source": [
    "¿Cómo vamos a almacenar información en nuestra computadora?\n",
    "\n",
    "**¡Variables!**"
   ]
  },
  {
   "cell_type": "code",
   "execution_count": 3,
   "id": "756ff5da",
   "metadata": {},
   "outputs": [],
   "source": [
    "nombre = 'Carlos'\n",
    "apellido ='Campos'\n",
    "edad=23\n",
    "sexo='M'"
   ]
  },
  {
   "cell_type": "code",
   "execution_count": 4,
   "id": "0652b688",
   "metadata": {},
   "outputs": [
    {
     "name": "stdout",
     "output_type": "stream",
     "text": [
      "Buenos días Carlos Campos\n"
     ]
    }
   ],
   "source": [
    "# Concatenación de cadenas\n",
    "print('Buenos días '+nombre+' '+ apellido)"
   ]
  },
  {
   "cell_type": "code",
   "execution_count": 5,
   "id": "6e160360",
   "metadata": {},
   "outputs": [
    {
     "name": "stdout",
     "output_type": "stream",
     "text": [
      "Buenos dias Carlos Campos de 23 años de edad\n"
     ]
    }
   ],
   "source": [
    "# f-strings\n",
    "print(f'Buenos dias {nombre} {apellido} de {edad} años de edad')"
   ]
  },
  {
   "cell_type": "markdown",
   "id": "dc1f7d1e",
   "metadata": {},
   "source": [
    "#### Tipos de variable"
   ]
  },
  {
   "cell_type": "code",
   "execution_count": 6,
   "id": "fb11616b",
   "metadata": {},
   "outputs": [],
   "source": [
    "var1='hola'\n",
    "var2=33"
   ]
  },
  {
   "cell_type": "code",
   "execution_count": 7,
   "id": "f0f6ac7b",
   "metadata": {},
   "outputs": [
    {
     "data": {
      "text/plain": [
       "str"
      ]
     },
     "execution_count": 7,
     "metadata": {},
     "output_type": "execute_result"
    }
   ],
   "source": [
    "type(var1)"
   ]
  },
  {
   "cell_type": "code",
   "execution_count": 8,
   "id": "344027e9",
   "metadata": {},
   "outputs": [
    {
     "data": {
      "text/plain": [
       "int"
      ]
     },
     "execution_count": 8,
     "metadata": {},
     "output_type": "execute_result"
    }
   ],
   "source": [
    "type(var2)"
   ]
  },
  {
   "cell_type": "markdown",
   "id": "e5eaee88",
   "metadata": {},
   "source": [
    "#### Operaciones matemáticas"
   ]
  },
  {
   "cell_type": "code",
   "execution_count": 9,
   "id": "cc779981",
   "metadata": {},
   "outputs": [],
   "source": [
    "a=10\n",
    "b=-5\n",
    "c=0.1\n",
    "d=1.23456789"
   ]
  },
  {
   "cell_type": "markdown",
   "id": "39275dbf",
   "metadata": {},
   "source": [
    "PEMDAS = Paréntesis - Exponente - Multiplicación - División - Adición -Substracción"
   ]
  },
  {
   "cell_type": "code",
   "execution_count": 10,
   "id": "70265a72",
   "metadata": {},
   "outputs": [
    {
     "data": {
      "text/plain": [
       "5.1"
      ]
     },
     "execution_count": 10,
     "metadata": {},
     "output_type": "execute_result"
    }
   ],
   "source": [
    "# Suma\n",
    "(a+b)+c"
   ]
  },
  {
   "cell_type": "code",
   "execution_count": 11,
   "id": "93804bf9",
   "metadata": {},
   "outputs": [
    {
     "data": {
      "text/plain": [
       "-50"
      ]
     },
     "execution_count": 11,
     "metadata": {},
     "output_type": "execute_result"
    }
   ],
   "source": [
    "# Multiplicación\n",
    "a*b"
   ]
  },
  {
   "cell_type": "code",
   "execution_count": 12,
   "id": "5e0ef903",
   "metadata": {},
   "outputs": [
    {
     "data": {
      "text/plain": [
       "-2.0"
      ]
     },
     "execution_count": 12,
     "metadata": {},
     "output_type": "execute_result"
    }
   ],
   "source": [
    "# División\n",
    "a/b"
   ]
  },
  {
   "cell_type": "code",
   "execution_count": 13,
   "id": "ba764011",
   "metadata": {},
   "outputs": [
    {
     "data": {
      "text/plain": [
       "1.2589254117941673"
      ]
     },
     "execution_count": 13,
     "metadata": {},
     "output_type": "execute_result"
    }
   ],
   "source": [
    "# Potencia\n",
    "a**c"
   ]
  },
  {
   "cell_type": "code",
   "execution_count": 15,
   "id": "abb19821",
   "metadata": {},
   "outputs": [
    {
     "data": {
      "text/plain": [
       "1"
      ]
     },
     "execution_count": 15,
     "metadata": {},
     "output_type": "execute_result"
    }
   ],
   "source": [
    "# Residuo\n",
    "10%3"
   ]
  },
  {
   "cell_type": "markdown",
   "id": "b0de1bb1",
   "metadata": {},
   "source": [
    "Hagamos un ejemplo con módulo..."
   ]
  },
  {
   "cell_type": "code",
   "execution_count": 17,
   "id": "5ab9c00a",
   "metadata": {},
   "outputs": [
    {
     "name": "stdout",
     "output_type": "stream",
     "text": [
      "Número total de rebanadas: 40\n",
      "Rebanadas sobrantes: 0\n"
     ]
    }
   ],
   "source": [
    "numero_amigos=5\n",
    "\n",
    "rebanadas_x_pizza=8\n",
    "\n",
    "#¿Cuántas pizzas debo ordenar para que todos coman igual y no sobre nada?\n",
    "\n",
    "numero_pizzas=5\n",
    "\n",
    "rebanadas_totales=numero_pizzas*rebanadas_x_pizza\n",
    "print(f'Número total de rebanadas: {rebanadas_totales}')\n",
    "\n",
    "rebanadas_sobrantes=rebanadas_totales%numero_amigos\n",
    "print(f'Rebanadas sobrantes: {rebanadas_sobrantes}')"
   ]
  },
  {
   "cell_type": "markdown",
   "id": "d1037bae",
   "metadata": {},
   "source": [
    "#### Operaciones lógicas"
   ]
  },
  {
   "cell_type": "markdown",
   "id": "cf068192",
   "metadata": {},
   "source": [
    "Valores booleanos"
   ]
  },
  {
   "cell_type": "code",
   "execution_count": 18,
   "id": "171a159a",
   "metadata": {},
   "outputs": [
    {
     "data": {
      "text/plain": [
       "False"
      ]
     },
     "execution_count": 18,
     "metadata": {},
     "output_type": "execute_result"
    }
   ],
   "source": [
    "10**(9-7*5.1/2)>50*(1/1.1111111)"
   ]
  },
  {
   "cell_type": "code",
   "execution_count": 19,
   "id": "bafa1a09",
   "metadata": {},
   "outputs": [
    {
     "data": {
      "text/plain": [
       "False"
      ]
     },
     "execution_count": 19,
     "metadata": {},
     "output_type": "execute_result"
    }
   ],
   "source": [
    "'Jonatan'=='jonatan'"
   ]
  },
  {
   "cell_type": "code",
   "execution_count": 20,
   "id": "d3236e9e",
   "metadata": {},
   "outputs": [
    {
     "data": {
      "text/plain": [
       "True"
      ]
     },
     "execution_count": 20,
     "metadata": {},
     "output_type": "execute_result"
    }
   ],
   "source": [
    "10>5"
   ]
  },
  {
   "cell_type": "markdown",
   "id": "6393d555",
   "metadata": {},
   "source": [
    "__AND__"
   ]
  },
  {
   "cell_type": "code",
   "execution_count": 21,
   "id": "9adf1f80",
   "metadata": {},
   "outputs": [
    {
     "data": {
      "text/plain": [
       "False"
      ]
     },
     "execution_count": 21,
     "metadata": {},
     "output_type": "execute_result"
    }
   ],
   "source": [
    "10>50 and 3>2"
   ]
  },
  {
   "cell_type": "markdown",
   "id": "39e4e941",
   "metadata": {},
   "source": [
    "__OR__"
   ]
  },
  {
   "cell_type": "code",
   "execution_count": 22,
   "id": "c9f8739a",
   "metadata": {},
   "outputs": [
    {
     "data": {
      "text/plain": [
       "False"
      ]
     },
     "execution_count": 22,
     "metadata": {},
     "output_type": "execute_result"
    }
   ],
   "source": [
    "10 > 50 or 3>20"
   ]
  },
  {
   "cell_type": "markdown",
   "id": "f486d73e",
   "metadata": {},
   "source": [
    "Ejemplo - Log In"
   ]
  },
  {
   "cell_type": "code",
   "execution_count": 24,
   "id": "758ad835",
   "metadata": {},
   "outputs": [
    {
     "name": "stdout",
     "output_type": "stream",
     "text": [
      "username: carloscampos\n",
      "password: dejameentrar\n"
     ]
    },
    {
     "data": {
      "text/plain": [
       "True"
      ]
     },
     "execution_count": 24,
     "metadata": {},
     "output_type": "execute_result"
    }
   ],
   "source": [
    "usuario_real='carloscampos'\n",
    "contraseña_real='dejameentrar'\n",
    "\n",
    "username=input('username: ')\n",
    "password=input('password: ')\n",
    "\n",
    "usuario_real== username and contraseña_real==password"
   ]
  },
  {
   "cell_type": "markdown",
   "id": "25d8dd39",
   "metadata": {},
   "source": [
    "#### Condicionales"
   ]
  },
  {
   "cell_type": "code",
   "execution_count": 25,
   "id": "41fbfb9a",
   "metadata": {},
   "outputs": [
    {
     "name": "stdout",
     "output_type": "stream",
     "text": [
      "Eres muy joven para entrar\n"
     ]
    }
   ],
   "source": [
    "edad=10\n",
    "\n",
    "if edad > 17:\n",
    "    print('Puedes entrar al antro')\n",
    "else:\n",
    "    print('Eres muy joven para entrar')\n"
   ]
  },
  {
   "cell_type": "code",
   "execution_count": 26,
   "id": "e7ce2650",
   "metadata": {},
   "outputs": [
    {
     "name": "stdout",
     "output_type": "stream",
     "text": [
      "username: carloscampos\n",
      "password: dejameentrar\n",
      "Puedes acceder!\n"
     ]
    }
   ],
   "source": [
    "usuario_real='carloscampos'\n",
    "contraseña_real='dejameentrar'\n",
    "\n",
    "username=input('username: ')\n",
    "password=input('password: ')\n",
    "\n",
    "if usuario_real== username and contraseña_real==password:\n",
    "    print('Puedes acceder!')\n",
    "else:\n",
    "    print('Usuario o contraseña incorrectos')\n",
    "\n"
   ]
  },
  {
   "cell_type": "markdown",
   "id": "b1aa30c9",
   "metadata": {},
   "source": [
    "#### Aplicación: Match Selector"
   ]
  },
  {
   "cell_type": "markdown",
   "id": "e094fe88",
   "metadata": {},
   "source": [
    "edad máxima: 45 años\n",
    "\n",
    "mínimo aportar financieramente: $20, 000\n",
    "\n",
    "mínimo viajes al año: 5 viajes\n",
    "\n",
    "Suponemos que queremos que se cumplan al menos las tres características mínimas"
   ]
  },
  {
   "cell_type": "code",
   "execution_count": null,
   "id": "9a30ec6d",
   "metadata": {},
   "outputs": [],
   "source": [
    "edad = 46\n",
    "apoyo=20000\n",
    "viajes=5\n",
    "\n",
    "criterio_edad=edad<=45\n",
    "criterio_apoyo"
   ]
  }
 ],
 "metadata": {
  "kernelspec": {
   "display_name": "Python 3 (ipykernel)",
   "language": "python",
   "name": "python3"
  },
  "language_info": {
   "codemirror_mode": {
    "name": "ipython",
    "version": 3
   },
   "file_extension": ".py",
   "mimetype": "text/x-python",
   "name": "python",
   "nbconvert_exporter": "python",
   "pygments_lexer": "ipython3",
   "version": "3.9.13"
  }
 },
 "nbformat": 4,
 "nbformat_minor": 5
}
