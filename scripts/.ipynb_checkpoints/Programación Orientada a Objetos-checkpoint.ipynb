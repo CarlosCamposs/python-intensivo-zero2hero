{
 "cells": [
  {
   "cell_type": "markdown",
   "id": "865c8a7e",
   "metadata": {},
   "source": [
    "# Programación Orientada a Objetos"
   ]
  },
  {
   "cell_type": "code",
   "execution_count": 1,
   "id": "c3b16df8",
   "metadata": {},
   "outputs": [],
   "source": [
    "# Variables \n",
    "x=5"
   ]
  },
  {
   "cell_type": "code",
   "execution_count": 4,
   "id": "64ddda1e",
   "metadata": {},
   "outputs": [],
   "source": [
    "# Funciones\n",
    "def saludar(nombre, tiempo):\n",
    "    print(f'Buenas {tiempo}, {nombre}')"
   ]
  },
  {
   "cell_type": "code",
   "execution_count": 5,
   "id": "b0498baf",
   "metadata": {},
   "outputs": [
    {
     "name": "stdout",
     "output_type": "stream",
     "text": [
      "Buenas Tardes, Carlos\n"
     ]
    }
   ],
   "source": [
    "saludar('Carlos','Tardes')"
   ]
  },
  {
   "cell_type": "markdown",
   "id": "29d20a17",
   "metadata": {},
   "source": [
    "#### Clases"
   ]
  },
  {
   "cell_type": "markdown",
   "id": "af793ef4",
   "metadata": {},
   "source": [
    "Atributos únicos de un perro\n",
    "\n",
    "* raza\n",
    "* tamaño\n",
    "* nombre\n",
    "* color"
   ]
  },
  {
   "cell_type": "code",
   "execution_count": 6,
   "id": "9757a496",
   "metadata": {},
   "outputs": [],
   "source": [
    "class Perro:\n",
    "    \n",
    "    def __init__(self,nombre,raza,tamaño,color):\n",
    "        self.nombre=nombre\n",
    "        self.raza=raza\n",
    "        self.tamaño=tamaño\n",
    "        self.color=color\n",
    "        \n",
    "    def ladrar(self):            # Siempre se debe poner el argumento self\n",
    "        return 'guau guau'\n",
    "        \n",
    "    def gruñir(self):\n",
    "        return 'grrrrr' # También pudo hacerse con print('grrr')"
   ]
  },
  {
   "cell_type": "code",
   "execution_count": 7,
   "id": "e97fe06b",
   "metadata": {},
   "outputs": [],
   "source": [
    "# Inicializar una clase\n",
    "perro1=Perro('Firulais', 'Salchicha', 'Pequeño', 'Cafe')"
   ]
  },
  {
   "cell_type": "code",
   "execution_count": 9,
   "id": "612f9c36",
   "metadata": {},
   "outputs": [
    {
     "data": {
      "text/plain": [
       "'Firulais'"
      ]
     },
     "execution_count": 9,
     "metadata": {},
     "output_type": "execute_result"
    }
   ],
   "source": [
    "perro1.nombre"
   ]
  },
  {
   "cell_type": "code",
   "execution_count": 10,
   "id": "02ee1ed2",
   "metadata": {},
   "outputs": [],
   "source": [
    "# Otro objeto, llamado perro2\n",
    "perro2=Perro('Max', 'Labrador','Grande','Dorado')"
   ]
  },
  {
   "cell_type": "code",
   "execution_count": 11,
   "id": "937b725b",
   "metadata": {},
   "outputs": [
    {
     "data": {
      "text/plain": [
       "'Grande'"
      ]
     },
     "execution_count": 11,
     "metadata": {},
     "output_type": "execute_result"
    }
   ],
   "source": [
    "perro2.tamaño"
   ]
  },
  {
   "cell_type": "markdown",
   "id": "4ad25a27",
   "metadata": {},
   "source": [
    "#### Videojuego de Naruto"
   ]
  },
  {
   "cell_type": "code",
   "execution_count": 12,
   "id": "2c1b3297",
   "metadata": {},
   "outputs": [],
   "source": [
    "import numpy as np"
   ]
  },
  {
   "cell_type": "code",
   "execution_count": 13,
   "id": "9067610b",
   "metadata": {},
   "outputs": [
    {
     "data": {
      "text/plain": [
       "5"
      ]
     },
     "execution_count": 13,
     "metadata": {},
     "output_type": "execute_result"
    }
   ],
   "source": [
    "np.random.randint(5,10)"
   ]
  },
  {
   "cell_type": "code",
   "execution_count": 14,
   "id": "d90b06b8",
   "metadata": {},
   "outputs": [],
   "source": [
    "class Ninja:\n",
    "    \n",
    "    def __init__(self,nombre,vida,rango_ataque):\n",
    "        self.name=nombre\n",
    "        self.hp=vida\n",
    "        self.attack_range=rango_ataque\n",
    "        \n",
    "    def presentarse(self):\n",
    "        print(f'Mi nombre es {self.name}')\n",
    "        \n",
    "    def atacar(self):\n",
    "        attack=np.random.randint(self.attack_range[0],self.attack_range[1])\n",
    "        print(f'{self.name} atacó: {attack} PDV')\n",
    "        return attack\n",
    "    \n",
    "    def recibir_daño(self,daño):\n",
    "        self.hp=self.hp-daño"
   ]
  },
  {
   "cell_type": "markdown",
   "id": "d44615fa",
   "metadata": {},
   "source": [
    "#### Creación de personajes"
   ]
  },
  {
   "cell_type": "code",
   "execution_count": 16,
   "id": "1d407f40",
   "metadata": {},
   "outputs": [],
   "source": [
    "naruto=Ninja('Naruto Uzumaki',150,[10,40])\n",
    "sasuke=Ninja('Sasuke Uchiha',140,[25,35])\n",
    "gaara=Ninja('Gaara',200,[5,20])\n",
    "    # Cada uno de estos objetos ahora posee las funciones que están dentro de la clase \"Ninja\""
   ]
  },
  {
   "cell_type": "markdown",
   "id": "5b52f860",
   "metadata": {},
   "source": [
    "#### Interacción de clases"
   ]
  },
  {
   "cell_type": "code",
   "execution_count": 38,
   "id": "f2bae100",
   "metadata": {},
   "outputs": [
    {
     "name": "stdout",
     "output_type": "stream",
     "text": [
      "Ganador: Naruto Uzumaki\n"
     ]
    }
   ],
   "source": [
    "ninja1=gaara\n",
    "ninja2=naruto\n",
    "\n",
    "while ninja1.hp>0 and ninja2.hp>0:\n",
    "    # Turno ninja1\n",
    "    ataque1=ninja1.atacar() # Atacar es una función con \"return\"\n",
    "    ninja2.recibir_daño(ataque1)\n",
    "    # Turno ninja2\n",
    "    ataque2=ninja2.atacar() # Atacar es una función con \"return\"\n",
    "    ninja1.recibir_daño(ataque2)\n",
    "    \n",
    "# Resultados\n",
    "if ninja1.hp<=0:\n",
    "    print(f'Ganador: {ninja2.name}')\n",
    "elif ninja2.hp<=0:\n",
    "    print(f'Ganador: {ninja1.name}')\n",
    "    "
   ]
  }
 ],
 "metadata": {
  "kernelspec": {
   "display_name": "Python 3 (ipykernel)",
   "language": "python",
   "name": "python3"
  },
  "language_info": {
   "codemirror_mode": {
    "name": "ipython",
    "version": 3
   },
   "file_extension": ".py",
   "mimetype": "text/x-python",
   "name": "python",
   "nbconvert_exporter": "python",
   "pygments_lexer": "ipython3",
   "version": "3.9.13"
  }
 },
 "nbformat": 4,
 "nbformat_minor": 5
}
